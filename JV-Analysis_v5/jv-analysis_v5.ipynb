{
 "cells": [
  {
   "cell_type": "code",
   "execution_count": 1,
   "id": "c88971f3-9113-41a2-9266-bd25a4523f63",
   "metadata": {},
   "outputs": [],
   "source": [
    "# Cell 1: Test new structure imports\n",
    "import ipywidgets as widgets\n",
    "from IPython.display import display, HTML\n",
    "import sys\n",
    "import os\n",
    "\n",
    "# Add parent directory to path\n",
    "current_dir = os.getcwd()\n",
    "parent_dir = os.path.dirname(current_dir)\n",
    "if parent_dir not in sys.path:\n",
    "    sys.path.append(parent_dir)\n",
    "if current_dir not in sys.path:\n",
    "    sys.path.append(current_dir)\n",
    "\n",
    "try:\n",
    "    from data_manager import DataManager\n",
    "    from plot_manager import plotting_string_action\n",
    "    from utils import save_full_data_frame\n",
    "    from gui_components import AuthenticationUI, FilterUI, PlotUI, SaveUI\n",
    "    from error_handler import ErrorHandler\n",
    "    from batch_selection import create_batch_selection\n",
    "    from app_controller import JVAnalysisApp\n",
    "    \n",
    "except Exception as e:\n",
    "    print(f\"❌ Import failed: {e}\")\n",
    "    import traceback\n",
    "    traceback.print_exc()"
   ]
  },
  {
   "cell_type": "code",
   "execution_count": 2,
   "id": "fcd0635a-ef1e-470f-973d-fc6651baba1b",
   "metadata": {
    "scrolled": true
   },
   "outputs": [
    {
     "data": {
      "text/html": [
       "        <script type=\"text/javascript\">\n",
       "        window.PlotlyConfig = {MathJaxConfig: 'local'};\n",
       "        if (window.MathJax && window.MathJax.Hub && window.MathJax.Hub.Config) {window.MathJax.Hub.Config({SVG: {font: \"STIX-Web\"}});}\n",
       "        if (typeof require !== 'undefined') {\n",
       "        require.undef(\"plotly\");\n",
       "        requirejs.config({\n",
       "            paths: {\n",
       "                'plotly': ['https://cdn.plot.ly/plotly-2.35.2.min']\n",
       "            }\n",
       "        });\n",
       "        require(['plotly'], function(Plotly) {\n",
       "            window._Plotly = Plotly;\n",
       "        });\n",
       "        }\n",
       "        </script>\n",
       "        "
      ]
     },
     "metadata": {},
     "output_type": "display_data"
    },
    {
     "data": {
      "text/html": [
       "<script>document.title='NOMAD JV Analyzer'</script>"
      ],
      "text/plain": [
       "<IPython.core.display.HTML object>"
      ]
     },
     "metadata": {},
     "output_type": "display_data"
    },
    {
     "data": {
      "application/vnd.jupyter.widget-view+json": {
       "model_id": "69f0ee2223394064a9d819a8dd455695",
       "version_major": 2,
       "version_minor": 0
      },
      "text/plain": [
       "VBox(children=(HBox(children=(HTML(value=\"<h1 style='margin: 0; flex-grow: 1;'>JV Analysis Dashboard</h1>\"), V…"
      ]
     },
     "metadata": {},
     "output_type": "display_data"
    },
    {
     "name": "stdout",
     "output_type": "stream",
     "text": [
      "🚀 Reorganized application launched successfully!\n"
     ]
    }
   ],
   "source": [
    "# Cell 2: Launch the reorganized app\n",
    "try:\n",
    "    import plotly.io as pio\n",
    "    from plotly.offline import init_notebook_mode\n",
    "    init_notebook_mode(connected=True)\n",
    "    pio.renderers.default = 'notebook'\n",
    "\n",
    "    display(HTML(\"<script>document.title='NOMAD JV Analyzer'</script>\"))\n",
    "\n",
    "    try:\n",
    "        import access_token\n",
    "        access_token.log_notebook_usage()\n",
    "    except ImportError:\n",
    "        print(\"Note: access_token module not found, skipping logging\")\n",
    "\n",
    "    app = JVAnalysisApp()\n",
    "    display(app.get_dashboard())\n",
    "    print(\"🚀 Reorganized application launched successfully!\")\n",
    "    \n",
    "except Exception as e:\n",
    "    print(f\"❌ App creation failed: {e}\")\n",
    "    import traceback\n",
    "    traceback.print_exc()"
   ]
  },
  {
   "cell_type": "code",
   "execution_count": null,
   "id": "bb78cd57-0ca8-4de2-a2df-ce4ec1406f6d",
   "metadata": {},
   "outputs": [],
   "source": []
  }
 ],
 "metadata": {
  "kernelspec": {
   "display_name": "Python 3 (ipykernel)",
   "language": "python",
   "name": "python3"
  },
  "language_info": {
   "codemirror_mode": {
    "name": "ipython",
    "version": 3
   },
   "file_extension": ".py",
   "mimetype": "text/x-python",
   "name": "python",
   "nbconvert_exporter": "python",
   "pygments_lexer": "ipython3",
   "version": "3.12.10"
  }
 },
 "nbformat": 4,
 "nbformat_minor": 5
}
