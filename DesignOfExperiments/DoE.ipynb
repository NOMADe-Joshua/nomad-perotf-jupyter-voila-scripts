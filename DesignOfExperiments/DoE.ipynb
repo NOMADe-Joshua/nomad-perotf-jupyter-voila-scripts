{
 "cells": [
  {
   "cell_type": "markdown",
   "metadata": {},
   "source": [
    "# Design of Experiments (DoE) Application\n",
    "\n",
    "A comprehensive materials science research tool for experimental design and sampling."
   ]
  },
  {
   "cell_type": "code",
   "execution_count": 1,
   "metadata": {},
   "outputs": [],
   "source": [
    "# Import required libraries\n",
    "import sys\n",
    "import os\n",
    "import traceback\n",
    "import warnings\n",
    "warnings.filterwarnings('ignore')\n",
    "\n",
    "import ipywidgets as widgets\n",
    "from IPython.display import display, clear_output, HTML\n",
    "import pandas as pd\n",
    "import numpy as np\n",
    "import plotly.graph_objects as go\n",
    "import plotly.express as px\n",
    "from scipy import stats\n",
    "from scipy.stats import qmc\n",
    "\n",
    "parent_dir = os.path.dirname(os.getcwd())\n",
    "if parent_dir not in sys.path:\n",
    "    sys.path.append(parent_dir)\n",
    "\n",
    "import access_token\n",
    "access_token.log_notebook_usage()\n",
    "\n",
    "# Import in dependency order\n",
    "from utils import ValidationUtils, Constants\n",
    "from data_manager import DataManager, Variable, VariableType\n",
    "from sampling_algorithms import SamplingEngine\n",
    "from plot_manager import PlotManager\n",
    "from gui_components import GUIComponents\n",
    "from app_controller import DoEApplication"
   ]
  },
  {
   "cell_type": "code",
   "execution_count": 2,
   "metadata": {},
   "outputs": [
    {
     "name": "stdout",
     "output_type": "stream",
     "text": [
      "Initializing DoE Application...\n",
      "✅ Application initialized successfully!\n",
      "\n",
      "==================================================\n"
     ]
    },
    {
     "data": {
      "application/vnd.jupyter.widget-view+json": {
       "model_id": "25076873abf046b4aafce4b19ad5e8f6",
       "version_major": 2,
       "version_minor": 0
      },
      "text/plain": [
       "VBox(children=(VBox(children=(HTML(value=\"<h2 style='text-align: center; color: #2E4057;'>Design of Experiment…"
      ]
     },
     "metadata": {},
     "output_type": "display_data"
    }
   ],
   "source": [
    "# Initialize and start the DoE application\n",
    "try:\n",
    "    print(\"Initializing DoE Application...\")\n",
    "    app = DoEApplication()\n",
    "  \n",
    "    print(\"✅ Application initialized successfully!\")\n",
    "    print(\"\\n\" + \"=\"*50)\n",
    "    \n",
    "except Exception as e:\n",
    "    print(f\"❌ Error initializing application: {e}\")\n",
    "    traceback.print_exc()\n",
    "    raise\n",
    "\n",
    "# Display the main interface\n",
    "display(app.main_interface)"
   ]
  },
  {
   "cell_type": "code",
   "execution_count": 7,
   "metadata": {},
   "outputs": [
    {
     "name": "stdout",
     "output_type": "stream",
     "text": [
      "Application Status:\n",
      "------------------------------\n",
      "variables_count: 4\n",
      "samples_generated: 25\n",
      "current_algorithm: Random Sampling\n",
      "has_quality_metrics: True\n",
      "\n",
      "Available Algorithms:\n",
      "  • Latin Hypercube Sampling: Space-filling design with one sample in each row and column projection\n",
      "  • Sobol Sequences: Low-discrepancy quasi-random sequences with excellent space-filling properties\n",
      "  • Halton Sequences: Quasi-random sequences with good space-filling properties\n",
      "  • Random Sampling: Simple random sampling for baseline comparison\n",
      "  • Uniform Grid Sampling: Regular grid sampling for systematic coverage\n",
      "  • Maximin Distance Design: Optimizes minimum distance between sample points\n",
      "\n",
      "Think of Uniform Grid Sampling (complete systematic coverage) and Random Sampling (no predetermined structure) as two extremes, with other algorithms providing different balances between thorough exploration and practical efficiency.\n",
      "\n",
      "Total algorithms available: 6\n"
     ]
    }
   ],
   "source": [
    "# Application status and debugging information\n",
    "try:\n",
    "    print(\"Application Status:\")\n",
    "    print(\"-\" * 30)\n",
    "    \n",
    "    status = app.get_status()\n",
    "    for key, value in status.items():\n",
    "        print(f\"{key}: {value}\")\n",
    "    \n",
    "    # Show available algorithms\n",
    "    print(\"\\nAvailable Algorithms:\")\n",
    "    algorithms = app.sampling_engine.get_available_algorithms()\n",
    "    for name, desc in algorithms.items():\n",
    "        print(f\"  • {name}: {desc}\")\n",
    "    print(\"\\nThink of Uniform Grid Sampling (complete systematic coverage) and Random Sampling (no predetermined structure) as two extremes, with other algorithms providing different balances between thorough exploration and practical efficiency.\")\n",
    "    \n",
    "    print(f\"\\nTotal algorithms available: {len(algorithms)}\")\n",
    "    \n",
    "except Exception as e:\n",
    "    print(f\"Error getting application status: {e}\")\n",
    "    traceback.print_exc()"
   ]
  },
  {
   "cell_type": "markdown",
   "metadata": {},
   "source": [
    "## Quick Start Guide\n",
    "\n",
    "### 1. **Algorithm & Variables Tab**\n",
    "- Select your preferred sampling algorithm (Latin Hypercube is recommended for most cases)\n",
    "- Add experimental variables:\n",
    "  - **Continuous**: Temperature, pressure, flow rate, etc.\n",
    "  - **Discrete**: Integer parameters like number of layers, cycles\n",
    "  - **Categorical**: Material types, catalyst choices, etc.\n",
    "\n",
    "### 2. **Sample Generation Tab**\n",
    "- Set sample size (minimum = number of variables²)\n",
    "- Choose random seed for reproducibility\n",
    "- Generate samples and review quality metrics\n",
    "\n",
    "### 3. **Results & Design Tab**\n",
    "- Review generated experimental design\n",
    "- Check summary statistics\n",
    "- Export experimental protocol\n",
    "\n",
    "### 4. **Visualizations Tab**\n",
    "- Explore design space with interactive plots\n",
    "- Check space-filling quality\n",
    "- Identify correlations and patterns\n",
    "\n",
    "### 5. **Export & Import Tab**\n",
    "- Export data as CSV, JSON, or Excel\n",
    "- Save complete configurations for later use\n",
    "- Import existing experimental designs\n",
    "\n",
    "---\n",
    "\n",
    "**For Voila deployment:** Use the command `voila main_notebook.ipynb --template=material`"
   ]
  },
  {
   "cell_type": "code",
   "execution_count": null,
   "metadata": {},
   "outputs": [],
   "source": []
  },
  {
   "cell_type": "code",
   "execution_count": null,
   "metadata": {},
   "outputs": [],
   "source": []
  },
  {
   "cell_type": "code",
   "execution_count": null,
   "metadata": {},
   "outputs": [],
   "source": []
  },
  {
   "cell_type": "code",
   "execution_count": null,
   "metadata": {},
   "outputs": [],
   "source": []
  }
 ],
 "metadata": {
  "kernelspec": {
   "display_name": "Python 3 (ipykernel)",
   "language": "python",
   "name": "python3"
  },
  "language_info": {
   "codemirror_mode": {
    "name": "ipython",
    "version": 3
   },
   "file_extension": ".py",
   "mimetype": "text/x-python",
   "name": "python",
   "nbconvert_exporter": "python",
   "pygments_lexer": "ipython3",
   "version": "3.12.10"
  }
 },
 "nbformat": 4,
 "nbformat_minor": 4
}
