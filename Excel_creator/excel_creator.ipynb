{
 "cells": [
  {
   "cell_type": "code",
   "execution_count": null,
   "id": "56e60a1c-bd83-45a6-b7aa-7d961d29b147",
   "metadata": {
    "scrolled": true
   },
   "outputs": [
    {
     "name": "stdout",
     "output_type": "stream",
     "text": [
      "🔍 Current working directory: c:\\nomad-perotf-jupyter-voila-scripts\\Excel_creator\n",
      "🔍 Python paths added:\n",
      "   - C:\\nomad-perotf-jupyter-voila-scripts\\Excel_creator\n",
      "   - C:\\nomad-perotf-jupyter-voila-scripts\\Excel_creator\n",
      "   - C:\\nomad-perotf-jupyter-voila-scripts\\Excel_creator\\Excel_creator\n",
      "   - c:\\nomad-perotf-jupyter-voila-scripts\n",
      "✅ Access token loaded successfully\n",
      "🔄 Reloaded voila_experiment_app module\n",
      "✅ Voila experiment app imported successfully\n",
      "🚀 Creating experiment app...\n",
      "✅ Loaded 10 templates\n"
     ]
    },
    {
     "data": {
      "application/vnd.jupyter.widget-view+json": {
       "model_id": "6cc973520dc34474b3b4c3f891b61bbb",
       "version_major": 2,
       "version_minor": 0
      },
      "text/plain": [
       "VBox(children=(HTML(value='\\n            <div style=\"padding: 15px; background: linear-gradient(135deg, #667ee…"
      ]
     },
     "metadata": {},
     "output_type": "display_data"
    },
    {
     "name": "stdout",
     "output_type": "stream",
     "text": [
      "✅ Experiment app created and displayed\n"
     ]
    }
   ],
   "source": [
    "import sys\n",
    "import os\n",
    "from pathlib import Path\n",
    "\n",
    "# Add paths for imports\n",
    "sys.path.append(str(Path().resolve()))\n",
    "sys.path.append(str(Path().parent.resolve()))\n",
    "sys.path.append(str(Path(\"Excel_creator\").resolve()))\n",
    "sys.path.append(os.path.dirname(os.getcwd()))\n",
    "\n",
    "print(\"🔍 Current working directory:\", os.getcwd())\n",
    "print(\"🔍 Python paths added:\")\n",
    "for path in sys.path[-4:]:\n",
    "    print(f\"   - {path}\")\n",
    "\n",
    "try:\n",
    "    import access_token\n",
    "    access_token.log_notebook_usage()\n",
    "    print(\"✅ Access token loaded successfully\")\n",
    "except Exception as e:\n",
    "    print(f\"⚠️ Access token warning: {e}\")\n",
    "\n",
    "# Force reload the module to get latest changes\n",
    "import importlib\n",
    "if 'voila_experiment_app' in sys.modules:\n",
    "    importlib.reload(sys.modules['voila_experiment_app'])\n",
    "    print(\"🔄 Reloaded voila_experiment_app module\")\n",
    "\n",
    "# Import the experiment builder\n",
    "try:\n",
    "    from voila_experiment_app import create_experiment_app\n",
    "    print(\"✅ Voila experiment app imported successfully\")\n",
    "    \n",
    "    # Create and display the app\n",
    "    print(\"🚀 Creating experiment app...\")\n",
    "    app = create_experiment_app()\n",
    "    print(\"✅ Experiment app created and displayed\")\n",
    "    \n",
    "except ImportError as e:\n",
    "    print(f\"❌ Import error: {e}\")\n",
    "    print(\"📂 Files in current directory:\")\n",
    "    for file in Path().glob(\"*.py\"):\n",
    "        print(f\"   - {file}\")\n",
    "        \n",
    "except Exception as e:\n",
    "    print(f\"❌ Unexpected error: {e}\")\n",
    "    import traceback\n",
    "    traceback.print_exc()"
   ]
  },
  {
   "cell_type": "code",
   "execution_count": 15,
   "id": "427e6b66-76fb-4523-9901-5de41e7acca6",
   "metadata": {},
   "outputs": [
    {
     "name": "stdout",
     "output_type": "stream",
     "text": [
      "✅ App object exists: <class 'voila_experiment_app.MinimalistExperimentBuilder'>\n",
      "🔍 App has 1 processes in sequence\n",
      "🔍 Available processes (18):\n",
      "    1. Experiment Info\n",
      "    2. Spin Coating\n",
      "    3. Evaporation\n",
      "    4. Co-Evaporation\n",
      "    5. Seq-Evaporation\n",
      "    6. Sputtering\n",
      "    7. ALD\n",
      "    8. Cleaning O2-Plasma\n",
      "    9. Cleaning UV-Ozone\n",
      "   10. Inkjet Printing\n",
      "   11. Slot Die Coating\n",
      "   12. Dip Coating\n",
      "   13. Laser Scribing\n",
      "   14. Close Space Sublimation\n",
      "   15. Lamination\n",
      "   16. Annealing\n",
      "   17. Generic Process\n",
      "   18. Multijunction Info\n",
      "✅ Seq-Evaporation is available!\n",
      "🔍 Templates loaded: 10\n"
     ]
    }
   ],
   "source": [
    "# Debug: Check available processes in detail\n",
    "try:\n",
    "    if 'app' in locals():\n",
    "        print(f\"✅ App object exists: {type(app)}\")\n",
    "        print(f\"🔍 App has {len(app.current_sequence)} processes in sequence\")\n",
    "        print(f\"🔍 Available processes ({len(app.available_processes)}):\")\n",
    "        for i, process in enumerate(app.available_processes):\n",
    "            print(f\"   {i+1:2d}. {process}\")\n",
    "        \n",
    "        # Check specifically for Seq-Evaporation\n",
    "        if \"Seq-Evaporation\" in app.available_processes:\n",
    "            print(\"✅ Seq-Evaporation is available!\")\n",
    "        else:\n",
    "            print(\"❌ Seq-Evaporation is NOT available!\")\n",
    "            \n",
    "        if hasattr(app, 'templates'):\n",
    "            print(f\"🔍 Templates loaded: {len(app.templates)}\")\n",
    "    else:\n",
    "        print(\"❌ App object not found in local variables\")\n",
    "except Exception as e:\n",
    "    print(f\"❌ Error checking app: {e}\")"
   ]
  },
  {
   "cell_type": "code",
   "execution_count": 16,
   "id": "48912e25-f83f-4b33-9efe-2be9bfdffd2e",
   "metadata": {},
   "outputs": [
    {
     "name": "stdout",
     "output_type": "stream",
     "text": [
      "🔄 Attempting manual display...\n"
     ]
    },
    {
     "data": {
      "application/vnd.jupyter.widget-view+json": {
       "model_id": "5ec6cda098824028a4d90ed3e06584cd",
       "version_major": 2,
       "version_minor": 0
      },
      "text/plain": [
       "VBox(children=(HTML(value='\\n            <div style=\"padding: 15px; background: linear-gradient(135deg, #667ee…"
      ]
     },
     "metadata": {},
     "output_type": "display_data"
    },
    {
     "name": "stdout",
     "output_type": "stream",
     "text": [
      "✅ Manual display completed\n"
     ]
    }
   ],
   "source": [
    "# Manual display if automatic display didn't work\n",
    "try:\n",
    "    if 'app' in locals():\n",
    "        print(\"🔄 Attempting manual display...\")\n",
    "        app.display()\n",
    "        print(\"✅ Manual display completed\")\n",
    "    else:\n",
    "        print(\"❌ No app to display\")\n",
    "except Exception as e:\n",
    "    print(f\"❌ Manual display error: {e}\")\n",
    "    import traceback\n",
    "    traceback.print_exc()"
   ]
  }
 ],
 "metadata": {
  "kernelspec": {
   "display_name": "Python 3 (ipykernel)",
   "language": "python",
   "name": "python3"
  },
  "language_info": {
   "codemirror_mode": {
    "name": "ipython",
    "version": 3
   },
   "file_extension": ".py",
   "mimetype": "text/x-python",
   "name": "python",
   "nbconvert_exporter": "python",
   "pygments_lexer": "ipython3",
   "version": "3.12.10"
  }
 },
 "nbformat": 4,
 "nbformat_minor": 5
}
