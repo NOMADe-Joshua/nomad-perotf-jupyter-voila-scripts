{
 "cells": [
  {
   "cell_type": "code",
   "execution_count": 4,
   "id": "56e60a1c-bd83-45a6-b7aa-7d961d29b147",
   "metadata": {
    "scrolled": true
   },
   "outputs": [
    {
     "name": "stdout",
     "output_type": "stream",
     "text": [
      "🔍 Current working directory: c:\\nomad-perotf-jupyter-voila-scripts\\Excel_creator\n",
      "🔍 Python paths added:\n",
      "   - C:\\nomad-perotf-jupyter-voila-scripts\\Excel_creator\n",
      "   - C:\\nomad-perotf-jupyter-voila-scripts\\Excel_creator\n",
      "   - C:\\nomad-perotf-jupyter-voila-scripts\\Excel_creator\\Excel_creator\n",
      "   - c:\\nomad-perotf-jupyter-voila-scripts\n",
      "✅ Access token loaded successfully\n",
      "🔄 Reloaded voila_experiment_app module\n",
      "✅ Voila experiment app imported successfully\n",
      "🚀 Creating experiment app...\n",
      "✅ Loaded 2 templates\n",
      "✅ Experiment app created (not displayed yet)\n"
     ]
    }
   ],
   "source": [
    "import sys\n",
    "import os\n",
    "from pathlib import Path\n",
    "\n",
    "# Add paths for imports\n",
    "sys.path.append(str(Path().resolve()))\n",
    "sys.path.append(str(Path().parent.resolve()))\n",
    "sys.path.append(str(Path(\"Excel_creator\").resolve()))\n",
    "sys.path.append(os.path.dirname(os.getcwd()))\n",
    "\n",
    "print(\"🔍 Current working directory:\", os.getcwd())\n",
    "print(\"🔍 Python paths added:\")\n",
    "for path in sys.path[-4:]:\n",
    "    print(f\"   - {path}\")\n",
    "\n",
    "try:\n",
    "    import access_token\n",
    "    access_token.log_notebook_usage()\n",
    "    print(\"✅ Access token loaded successfully\")\n",
    "except Exception as e:\n",
    "    print(f\"⚠️ Access token warning: {e}\")\n",
    "\n",
    "# Force reload the module to get latest changes\n",
    "import importlib\n",
    "if 'voila_experiment_app' in sys.modules:\n",
    "    importlib.reload(sys.modules['voila_experiment_app'])\n",
    "    print(\"🔄 Reloaded voila_experiment_app module\")\n",
    "\n",
    "# Import the experiment builder\n",
    "try:\n",
    "    from voila_experiment_app import MinimalistExperimentBuilder\n",
    "    print(\"✅ Voila experiment app imported successfully\")\n",
    "    \n",
    "    # Create app WITHOUT displaying it automatically\n",
    "    print(\"🚀 Creating experiment app...\")\n",
    "    app = MinimalistExperimentBuilder()  # Don't use create_experiment_app() which displays automatically\n",
    "    print(\"✅ Experiment app created (not displayed yet)\")\n",
    "    \n",
    "except ImportError as e:\n",
    "    print(f\"❌ Import error: {e}\")\n",
    "    print(\"📂 Files in current directory:\")\n",
    "    for file in Path().glob(\"*.py\"):\n",
    "        print(f\"   - {file}\")\n",
    "        \n",
    "except Exception as e:\n",
    "    print(f\"❌ Unexpected error: {e}\")\n",
    "    import traceback\n",
    "    traceback.print_exc()"
   ]
  },
  {
   "cell_type": "code",
   "execution_count": 5,
   "id": "427e6b66-76fb-4523-9901-5de41e7acca6",
   "metadata": {},
   "outputs": [
    {
     "name": "stdout",
     "output_type": "stream",
     "text": [
      "✅ App object exists: <class 'voila_experiment_app.MinimalistExperimentBuilder'>\n",
      "🔍 App has 1 processes in sequence\n",
      "🔍 Available processes: 18 total\n",
      "🔍 Templates loaded: 2\n"
     ]
    }
   ],
   "source": [
    "# Debug: Check app status\n",
    "try:\n",
    "    if 'app' in locals():\n",
    "        print(f\"✅ App object exists: {type(app)}\")\n",
    "        print(f\"🔍 App has {len(app.current_sequence)} processes in sequence\")\n",
    "        print(f\"🔍 Available processes: {len(app.available_processes)} total\")\n",
    "        \n",
    "        if hasattr(app, 'templates'):\n",
    "            print(f\"🔍 Templates loaded: {len(app.templates)}\")\n",
    "    else:\n",
    "        print(\"❌ App object not found in local variables\")\n",
    "except Exception as e:\n",
    "    print(f\"❌ Error checking app: {e}\")"
   ]
  },
  {
   "cell_type": "code",
   "execution_count": 6,
   "id": "48912e25-f83f-4b33-9efe-2be9bfdffd2e",
   "metadata": {},
   "outputs": [
    {
     "name": "stdout",
     "output_type": "stream",
     "text": [
      "🔄 Displaying experiment app...\n"
     ]
    },
    {
     "data": {
      "application/vnd.jupyter.widget-view+json": {
       "model_id": "3b2d8dfe8df547ccb2966c2100bbf95c",
       "version_major": 2,
       "version_minor": 0
      },
      "text/plain": [
       "VBox(children=(HTML(value='\\n            <div style=\"padding: 15px; background: linear-gradient(135deg, #667ee…"
      ]
     },
     "metadata": {},
     "output_type": "display_data"
    },
    {
     "name": "stdout",
     "output_type": "stream",
     "text": [
      "✅ App displayed successfully\n"
     ]
    }
   ],
   "source": [
    "# Display the app only once here\n",
    "try:\n",
    "    if 'app' in locals():\n",
    "        print(\"🔄 Displaying experiment app...\")\n",
    "        app.display()\n",
    "        print(\"✅ App displayed successfully\")\n",
    "    else:\n",
    "        print(\"❌ No app to display\")\n",
    "except Exception as e:\n",
    "    print(f\"❌ Display error: {e}\")\n",
    "    import traceback\n",
    "    traceback.print_exc()"
   ]
  }
 ],
 "metadata": {
  "kernelspec": {
   "display_name": "Python 3",
   "language": "python",
   "name": "python3"
  },
  "language_info": {
   "codemirror_mode": {
    "name": "ipython",
    "version": 3
   },
   "file_extension": ".py",
   "mimetype": "text/x-python",
   "name": "python",
   "nbconvert_exporter": "python",
   "pygments_lexer": "ipython3",
   "version": "3.12.10"
  }
 },
 "nbformat": 4,
 "nbformat_minor": 5
}
